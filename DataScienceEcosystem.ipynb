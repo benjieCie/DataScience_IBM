{
 "cells": [
  {
   "cell_type": "markdown",
   "id": "029905e3-167e-4d94-a297-ce45f71bab28",
   "metadata": {},
   "source": [
    "# Data Science Tools and Ecosystem"
   ]
  },
  {
   "cell_type": "markdown",
   "id": "dabcc670-e713-4d8c-8ec1-66a1cde0254e",
   "metadata": {},
   "source": [
    "In this notebook, Data Science Tools and Ecosystem are summarized."
   ]
  },
  {
   "cell_type": "markdown",
   "id": "8be1b407-71c7-4561-86ad-d82e5a76401e",
   "metadata": {},
   "source": [
    "__Objectives:__\n",
    "- List popular languages that Data Scientists use.\n",
    "- List some of the commonly used libraries used by Data Scientists\n",
    "- Create a code cell to convert minutes to hours\n",
    "- List Commonly used Data Science Tools"
   ]
  },
  {
   "cell_type": "markdown",
   "id": "52121bdd-ac84-4a48-8d04-225717db8395",
   "metadata": {},
   "source": [
    "Some of the popular languages that Data Scientists use are:\n",
    "- Julia\n",
    "- R\n",
    "- Python"
   ]
  },
  {
   "cell_type": "markdown",
   "id": "544fa98b-e375-4d0f-a657-e036403e5fdc",
   "metadata": {},
   "source": [
    "Some of the commonly used libraries used by Data Scientists include:\n",
    "1. NumPy\n",
    "2. Pandas\n",
    "3. matplotlib"
   ]
  },
  {
   "cell_type": "markdown",
   "id": "2bd85e31-96b9-4a55-ac08-f1c5133ecbac",
   "metadata": {},
   "source": [
    "|Data Science Tools|\n",
    "|------------------|\n",
    "|Apache Spark|\n",
    "|BigML|\n",
    "|RStudio|"
   ]
  },
  {
   "cell_type": "markdown",
   "id": "abfa68c8-6d73-4d86-bbc1-e810c8717061",
   "metadata": {},
   "source": [
    "Below are a few examples of evaluating arithmetic expressions in Python"
   ]
  },
  {
   "cell_type": "code",
   "execution_count": 2,
   "id": "61dd05b5-4d2c-4044-acb3-231cfadf4df9",
   "metadata": {},
   "outputs": [
    {
     "data": {
      "text/plain": [
       "17"
      ]
     },
     "execution_count": 2,
     "metadata": {},
     "output_type": "execute_result"
    }
   ],
   "source": [
    "# This a simple arithmetic expression to mutiply then add integers\n",
    "(3*4)+5"
   ]
  },
  {
   "cell_type": "code",
   "execution_count": 3,
   "id": "73a7143b-d6a5-417e-a143-7142cabcade5",
   "metadata": {},
   "outputs": [
    {
     "data": {
      "text/plain": [
       "3.3333333333333335"
      ]
     },
     "execution_count": 3,
     "metadata": {},
     "output_type": "execute_result"
    }
   ],
   "source": [
    "# This will convert 200 minutes to hours by diving by 60\n",
    "200/60"
   ]
  },
  {
   "cell_type": "markdown",
   "id": "f81e21f8-27a3-4be8-824d-b49c1869b9ae",
   "metadata": {},
   "source": [
    "## Author\n",
    "Benjamin Musili"
   ]
  },
  {
   "cell_type": "code",
   "execution_count": null,
   "id": "e978ef29-c9c8-471b-ace9-a3806bc2dd0f",
   "metadata": {},
   "outputs": [],
   "source": []
  }
 ],
 "metadata": {
  "kernelspec": {
   "display_name": "Python 3 (ipykernel)",
   "language": "python",
   "name": "python3"
  },
  "language_info": {
   "codemirror_mode": {
    "name": "ipython",
    "version": 3
   },
   "file_extension": ".py",
   "mimetype": "text/x-python",
   "name": "python",
   "nbconvert_exporter": "python",
   "pygments_lexer": "ipython3",
   "version": "3.11.9"
  }
 },
 "nbformat": 4,
 "nbformat_minor": 5
}
